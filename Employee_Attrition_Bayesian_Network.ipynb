{
  "cells": [
    {
      "cell_type": "markdown",
      "source": [
        "The first thing to do is to include all the necessary libraries for our work."
      ],
      "metadata": {
        "id": "Nm7JJlxHwfGu"
      }
    },
    {
      "cell_type": "code",
      "execution_count": null,
      "metadata": {
        "id": "Pzk3TmwHZjc-",
        "colab": {
          "base_uri": "https://localhost:8080/"
        },
        "outputId": "649ccdd2-3711-4c13-c0e5-3ff0d0e3967e"
      },
      "outputs": [
        {
          "output_type": "stream",
          "name": "stdout",
          "text": [
            "Looking in indexes: https://pypi.org/simple, https://us-python.pkg.dev/colab-wheels/public/simple/\n",
            "Collecting pgmpy\n",
            "  Downloading pgmpy-0.1.21-py3-none-any.whl (1.9 MB)\n",
            "\u001b[2K     \u001b[90m━━━━━━━━━━━━━━━━━━━━━━━━━━━━━━━━━━━━━━━━\u001b[0m \u001b[32m1.9/1.9 MB\u001b[0m \u001b[31m22.1 MB/s\u001b[0m eta \u001b[36m0:00:00\u001b[0m\n",
            "\u001b[?25hRequirement already satisfied: torch in /usr/local/lib/python3.8/dist-packages (from pgmpy) (1.13.1+cu116)\n",
            "Requirement already satisfied: scikit-learn in /usr/local/lib/python3.8/dist-packages (from pgmpy) (1.0.2)\n",
            "Requirement already satisfied: joblib in /usr/local/lib/python3.8/dist-packages (from pgmpy) (1.2.0)\n",
            "Requirement already satisfied: tqdm in /usr/local/lib/python3.8/dist-packages (from pgmpy) (4.64.1)\n",
            "Requirement already satisfied: opt-einsum in /usr/local/lib/python3.8/dist-packages (from pgmpy) (3.3.0)\n",
            "Requirement already satisfied: networkx in /usr/local/lib/python3.8/dist-packages (from pgmpy) (3.0)\n",
            "Requirement already satisfied: numpy in /usr/local/lib/python3.8/dist-packages (from pgmpy) (1.21.6)\n",
            "Requirement already satisfied: scipy in /usr/local/lib/python3.8/dist-packages (from pgmpy) (1.7.3)\n",
            "Requirement already satisfied: pyparsing in /usr/local/lib/python3.8/dist-packages (from pgmpy) (3.0.9)\n",
            "Requirement already satisfied: pandas in /usr/local/lib/python3.8/dist-packages (from pgmpy) (1.3.5)\n",
            "Requirement already satisfied: statsmodels in /usr/local/lib/python3.8/dist-packages (from pgmpy) (0.12.2)\n",
            "Requirement already satisfied: pytz>=2017.3 in /usr/local/lib/python3.8/dist-packages (from pandas->pgmpy) (2022.7)\n",
            "Requirement already satisfied: python-dateutil>=2.7.3 in /usr/local/lib/python3.8/dist-packages (from pandas->pgmpy) (2.8.2)\n",
            "Requirement already satisfied: threadpoolctl>=2.0.0 in /usr/local/lib/python3.8/dist-packages (from scikit-learn->pgmpy) (3.1.0)\n",
            "Requirement already satisfied: patsy>=0.5 in /usr/local/lib/python3.8/dist-packages (from statsmodels->pgmpy) (0.5.3)\n",
            "Requirement already satisfied: typing-extensions in /usr/local/lib/python3.8/dist-packages (from torch->pgmpy) (4.4.0)\n",
            "Requirement already satisfied: six in /usr/local/lib/python3.8/dist-packages (from patsy>=0.5->statsmodels->pgmpy) (1.15.0)\n",
            "Installing collected packages: pgmpy\n",
            "Successfully installed pgmpy-0.1.21\n"
          ]
        }
      ],
      "source": [
        "#importing the necessary libraries\n",
        "import numpy as np\n",
        "import pandas as pd\n",
        "import networkx as nx\n",
        "import matplotlib.pyplot as plt\n",
        "!pip install pgmpy\n",
        "from pgmpy.models import BayesianModel\n",
        "from pgmpy.inference import VariableElimination\n",
        "from pgmpy.sampling import BayesianModelSampling\n",
        "from pgmpy.factors.discrete import State\n",
        "from pgmpy.models.BayesianNetwork import BayesianNetwork"
      ]
    },
    {
      "cell_type": "markdown",
      "source": [
        "# **1. DATA PRE-PROCESSING**\n",
        "\n"
      ],
      "metadata": {
        "id": "YBDY3hfkw5Tq"
      }
    },
    {
      "cell_type": "code",
      "execution_count": null,
      "metadata": {
        "id": "dLOD3xxla32Q"
      },
      "outputs": [],
      "source": [
        "#import dataset\n",
        "data = pd.read_csv('Attrition Data.csv', delimiter=',')"
      ]
    },
    {
      "cell_type": "markdown",
      "source": [
        "A CSV dataset is imported as pandas dataframe.\n",
        "The dataset used can be found at the following link: [Employee Attrition Rate | Kaggle](https://www.kaggle.com/datasets/prachi13/employeeattritionrate?resource=download), and it represents stats from an anonymous company, in which are analyzed the causes for the employee attrition in the company itself.\n",
        "It consists of 14710 rows and 13 columns, respectively employees and employee attributes.  As shown in the following Pandas dataframe, from left to right, it presents:\n",
        "\n",
        "*   Age of the employees\n",
        "*   Attrition\n",
        "*   Department of work\n",
        "*   Distance From Home (in km)\n",
        "*   Degree of Education:\n",
        "  *   1-Below College;\n",
        "  *   2-College;\n",
        "  *   3-Bachelor; \n",
        "  *   4-Master;\n",
        "  *   5-Doctor\n",
        "*   Education Field\n",
        "*   Environment Satisfaction:\n",
        "  *   1-Low\n",
        "  *   2-Medium\n",
        "  *   3-High\n",
        "  *   4-Very High \n",
        "*   Job Satisfaction:\n",
        "  *   1-Low\n",
        "  *   2-Medium\n",
        "  *   3-High\n",
        "  *   4-Very High\n",
        "*   Marital Status\n",
        "*   Monthly Income\n",
        "*   Number of Companies in which the employee has worked in previous times\n",
        "*   Work Life Balance\n",
        "*   Years spent at the Company"
      ],
      "metadata": {
        "id": "MpiMG0ePxBS9"
      }
    },
    {
      "cell_type": "code",
      "source": [
        "data.head()"
      ],
      "metadata": {
        "colab": {
          "base_uri": "https://localhost:8080/",
          "height": 339
        },
        "id": "_SwBbhq1zzn_",
        "outputId": "3366b8fe-bf32-4f4f-da37-deed9d7cade6"
      },
      "execution_count": null,
      "outputs": [
        {
          "output_type": "execute_result",
          "data": {
            "text/plain": [
              "   Age Attrition              Department  DistanceFromHome  Education  \\\n",
              "0   41       Yes                   Sales                 1          2   \n",
              "1   49        No  Research & Development                 8          1   \n",
              "2   37       Yes  Research & Development                 2          2   \n",
              "3   33        No  Research & Development                 3          4   \n",
              "4   27        No  Research & Development                 2          1   \n",
              "\n",
              "  EducationField  EnvironmentSatisfaction  JobSatisfaction MaritalStatus  \\\n",
              "0  Life Sciences                        2                4        Single   \n",
              "1  Life Sciences                        3                2       Married   \n",
              "2          Other                        4                3        Single   \n",
              "3  Life Sciences                        4                3       Married   \n",
              "4        Medical                        1                2       Married   \n",
              "\n",
              "   MonthlyIncome  NumCompaniesWorked  WorkLifeBalance  YearsAtCompany  \n",
              "0           5993                   8                1               6  \n",
              "1           5130                   1                3              10  \n",
              "2           2090                   6                3               0  \n",
              "3           2909                   1                3               8  \n",
              "4           3468                   9                3               2  "
            ],
            "text/html": [
              "\n",
              "  <div id=\"df-9bb899d2-b706-4028-8803-0a70eaca4c9b\">\n",
              "    <div class=\"colab-df-container\">\n",
              "      <div>\n",
              "<style scoped>\n",
              "    .dataframe tbody tr th:only-of-type {\n",
              "        vertical-align: middle;\n",
              "    }\n",
              "\n",
              "    .dataframe tbody tr th {\n",
              "        vertical-align: top;\n",
              "    }\n",
              "\n",
              "    .dataframe thead th {\n",
              "        text-align: right;\n",
              "    }\n",
              "</style>\n",
              "<table border=\"1\" class=\"dataframe\">\n",
              "  <thead>\n",
              "    <tr style=\"text-align: right;\">\n",
              "      <th></th>\n",
              "      <th>Age</th>\n",
              "      <th>Attrition</th>\n",
              "      <th>Department</th>\n",
              "      <th>DistanceFromHome</th>\n",
              "      <th>Education</th>\n",
              "      <th>EducationField</th>\n",
              "      <th>EnvironmentSatisfaction</th>\n",
              "      <th>JobSatisfaction</th>\n",
              "      <th>MaritalStatus</th>\n",
              "      <th>MonthlyIncome</th>\n",
              "      <th>NumCompaniesWorked</th>\n",
              "      <th>WorkLifeBalance</th>\n",
              "      <th>YearsAtCompany</th>\n",
              "    </tr>\n",
              "  </thead>\n",
              "  <tbody>\n",
              "    <tr>\n",
              "      <th>0</th>\n",
              "      <td>41</td>\n",
              "      <td>Yes</td>\n",
              "      <td>Sales</td>\n",
              "      <td>1</td>\n",
              "      <td>2</td>\n",
              "      <td>Life Sciences</td>\n",
              "      <td>2</td>\n",
              "      <td>4</td>\n",
              "      <td>Single</td>\n",
              "      <td>5993</td>\n",
              "      <td>8</td>\n",
              "      <td>1</td>\n",
              "      <td>6</td>\n",
              "    </tr>\n",
              "    <tr>\n",
              "      <th>1</th>\n",
              "      <td>49</td>\n",
              "      <td>No</td>\n",
              "      <td>Research &amp; Development</td>\n",
              "      <td>8</td>\n",
              "      <td>1</td>\n",
              "      <td>Life Sciences</td>\n",
              "      <td>3</td>\n",
              "      <td>2</td>\n",
              "      <td>Married</td>\n",
              "      <td>5130</td>\n",
              "      <td>1</td>\n",
              "      <td>3</td>\n",
              "      <td>10</td>\n",
              "    </tr>\n",
              "    <tr>\n",
              "      <th>2</th>\n",
              "      <td>37</td>\n",
              "      <td>Yes</td>\n",
              "      <td>Research &amp; Development</td>\n",
              "      <td>2</td>\n",
              "      <td>2</td>\n",
              "      <td>Other</td>\n",
              "      <td>4</td>\n",
              "      <td>3</td>\n",
              "      <td>Single</td>\n",
              "      <td>2090</td>\n",
              "      <td>6</td>\n",
              "      <td>3</td>\n",
              "      <td>0</td>\n",
              "    </tr>\n",
              "    <tr>\n",
              "      <th>3</th>\n",
              "      <td>33</td>\n",
              "      <td>No</td>\n",
              "      <td>Research &amp; Development</td>\n",
              "      <td>3</td>\n",
              "      <td>4</td>\n",
              "      <td>Life Sciences</td>\n",
              "      <td>4</td>\n",
              "      <td>3</td>\n",
              "      <td>Married</td>\n",
              "      <td>2909</td>\n",
              "      <td>1</td>\n",
              "      <td>3</td>\n",
              "      <td>8</td>\n",
              "    </tr>\n",
              "    <tr>\n",
              "      <th>4</th>\n",
              "      <td>27</td>\n",
              "      <td>No</td>\n",
              "      <td>Research &amp; Development</td>\n",
              "      <td>2</td>\n",
              "      <td>1</td>\n",
              "      <td>Medical</td>\n",
              "      <td>1</td>\n",
              "      <td>2</td>\n",
              "      <td>Married</td>\n",
              "      <td>3468</td>\n",
              "      <td>9</td>\n",
              "      <td>3</td>\n",
              "      <td>2</td>\n",
              "    </tr>\n",
              "  </tbody>\n",
              "</table>\n",
              "</div>\n",
              "      <button class=\"colab-df-convert\" onclick=\"convertToInteractive('df-9bb899d2-b706-4028-8803-0a70eaca4c9b')\"\n",
              "              title=\"Convert this dataframe to an interactive table.\"\n",
              "              style=\"display:none;\">\n",
              "        \n",
              "  <svg xmlns=\"http://www.w3.org/2000/svg\" height=\"24px\"viewBox=\"0 0 24 24\"\n",
              "       width=\"24px\">\n",
              "    <path d=\"M0 0h24v24H0V0z\" fill=\"none\"/>\n",
              "    <path d=\"M18.56 5.44l.94 2.06.94-2.06 2.06-.94-2.06-.94-.94-2.06-.94 2.06-2.06.94zm-11 1L8.5 8.5l.94-2.06 2.06-.94-2.06-.94L8.5 2.5l-.94 2.06-2.06.94zm10 10l.94 2.06.94-2.06 2.06-.94-2.06-.94-.94-2.06-.94 2.06-2.06.94z\"/><path d=\"M17.41 7.96l-1.37-1.37c-.4-.4-.92-.59-1.43-.59-.52 0-1.04.2-1.43.59L10.3 9.45l-7.72 7.72c-.78.78-.78 2.05 0 2.83L4 21.41c.39.39.9.59 1.41.59.51 0 1.02-.2 1.41-.59l7.78-7.78 2.81-2.81c.8-.78.8-2.07 0-2.86zM5.41 20L4 18.59l7.72-7.72 1.47 1.35L5.41 20z\"/>\n",
              "  </svg>\n",
              "      </button>\n",
              "      \n",
              "  <style>\n",
              "    .colab-df-container {\n",
              "      display:flex;\n",
              "      flex-wrap:wrap;\n",
              "      gap: 12px;\n",
              "    }\n",
              "\n",
              "    .colab-df-convert {\n",
              "      background-color: #E8F0FE;\n",
              "      border: none;\n",
              "      border-radius: 50%;\n",
              "      cursor: pointer;\n",
              "      display: none;\n",
              "      fill: #1967D2;\n",
              "      height: 32px;\n",
              "      padding: 0 0 0 0;\n",
              "      width: 32px;\n",
              "    }\n",
              "\n",
              "    .colab-df-convert:hover {\n",
              "      background-color: #E2EBFA;\n",
              "      box-shadow: 0px 1px 2px rgba(60, 64, 67, 0.3), 0px 1px 3px 1px rgba(60, 64, 67, 0.15);\n",
              "      fill: #174EA6;\n",
              "    }\n",
              "\n",
              "    [theme=dark] .colab-df-convert {\n",
              "      background-color: #3B4455;\n",
              "      fill: #D2E3FC;\n",
              "    }\n",
              "\n",
              "    [theme=dark] .colab-df-convert:hover {\n",
              "      background-color: #434B5C;\n",
              "      box-shadow: 0px 1px 3px 1px rgba(0, 0, 0, 0.15);\n",
              "      filter: drop-shadow(0px 1px 2px rgba(0, 0, 0, 0.3));\n",
              "      fill: #FFFFFF;\n",
              "    }\n",
              "  </style>\n",
              "\n",
              "      <script>\n",
              "        const buttonEl =\n",
              "          document.querySelector('#df-9bb899d2-b706-4028-8803-0a70eaca4c9b button.colab-df-convert');\n",
              "        buttonEl.style.display =\n",
              "          google.colab.kernel.accessAllowed ? 'block' : 'none';\n",
              "\n",
              "        async function convertToInteractive(key) {\n",
              "          const element = document.querySelector('#df-9bb899d2-b706-4028-8803-0a70eaca4c9b');\n",
              "          const dataTable =\n",
              "            await google.colab.kernel.invokeFunction('convertToInteractive',\n",
              "                                                     [key], {});\n",
              "          if (!dataTable) return;\n",
              "\n",
              "          const docLinkHtml = 'Like what you see? Visit the ' +\n",
              "            '<a target=\"_blank\" href=https://colab.research.google.com/notebooks/data_table.ipynb>data table notebook</a>'\n",
              "            + ' to learn more about interactive tables.';\n",
              "          element.innerHTML = '';\n",
              "          dataTable['output_type'] = 'display_data';\n",
              "          await google.colab.output.renderOutput(dataTable, element);\n",
              "          const docLink = document.createElement('div');\n",
              "          docLink.innerHTML = docLinkHtml;\n",
              "          element.appendChild(docLink);\n",
              "        }\n",
              "      </script>\n",
              "    </div>\n",
              "  </div>\n",
              "  "
            ]
          },
          "metadata": {},
          "execution_count": 3
        }
      ]
    },
    {
      "cell_type": "code",
      "source": [
        "data.info()"
      ],
      "metadata": {
        "colab": {
          "base_uri": "https://localhost:8080/"
        },
        "id": "VxmMDAR_znYG",
        "outputId": "0522bc13-c03a-4587-9823-3b2f049f4db1"
      },
      "execution_count": null,
      "outputs": [
        {
          "output_type": "stream",
          "name": "stdout",
          "text": [
            "<class 'pandas.core.frame.DataFrame'>\n",
            "RangeIndex: 1470 entries, 0 to 1469\n",
            "Data columns (total 13 columns):\n",
            " #   Column                   Non-Null Count  Dtype \n",
            "---  ------                   --------------  ----- \n",
            " 0   Age                      1470 non-null   int64 \n",
            " 1   Attrition                1470 non-null   object\n",
            " 2   Department               1470 non-null   object\n",
            " 3   DistanceFromHome         1470 non-null   int64 \n",
            " 4   Education                1470 non-null   int64 \n",
            " 5   EducationField           1470 non-null   object\n",
            " 6   EnvironmentSatisfaction  1470 non-null   int64 \n",
            " 7   JobSatisfaction          1470 non-null   int64 \n",
            " 8   MaritalStatus            1470 non-null   object\n",
            " 9   MonthlyIncome            1470 non-null   int64 \n",
            " 10  NumCompaniesWorked       1470 non-null   int64 \n",
            " 11  WorkLifeBalance          1470 non-null   int64 \n",
            " 12  YearsAtCompany           1470 non-null   int64 \n",
            "dtypes: int64(9), object(4)\n",
            "memory usage: 149.4+ KB\n"
          ]
        }
      ]
    },
    {
      "cell_type": "markdown",
      "source": [
        "Considering the given dataset, some variables need to be converted into int64 type, in order to obtain only numerical values.\n"
      ],
      "metadata": {
        "id": "RCLGfnIPz21N"
      }
    },
    {
      "cell_type": "markdown",
      "source": [
        "Attrition, Department, EducationField and MaritalStatus are converted into int64 type"
      ],
      "metadata": {
        "id": "z2HmdtQK0QX4"
      }
    },
    {
      "cell_type": "code",
      "execution_count": null,
      "metadata": {
        "id": "ZU5Mj6nweb5a"
      },
      "outputs": [],
      "source": [
        "#converting variables into int64 data type\n",
        "data.Attrition.replace(data.Attrition.unique(),list(range(1,len(data.Attrition.unique())+1)),inplace=True)\n",
        "\n",
        "data.Department.replace(data.Department.unique(),list(range(1,len(data.Department.unique())+1)),inplace=True)\n",
        "\n",
        "data.EducationField.replace(data.EducationField.unique(),list(range(1,len(data.EducationField.unique())+1)),inplace=True)\n",
        "\n",
        "data.MaritalStatus.replace(data.MaritalStatus.unique(),list(range(1,len(data.MaritalStatus.unique())+1)),inplace=True)"
      ]
    },
    {
      "cell_type": "markdown",
      "source": [
        "Also Age, NumCompaniesWorked, YearsAtCompany, MonthlyIncome and DistanceFromHome need to be grouped into sub-classes, since they occur in a wide range of values."
      ],
      "metadata": {
        "id": "9iE-xm-h0xtc"
      }
    },
    {
      "cell_type": "code",
      "source": [
        "#group data into large intervals\n",
        "data.Age.replace([list(range(18,26)),list(range(26,33)),list(range(33,40)),list(range(40,47)),list(range(47,54)),list(range(54,61))],[1,2,3,4,5,6],inplace=True)\n",
        "\n",
        "data['NumCompaniesWorked'] = data['NumCompaniesWorked'].mask(data['NumCompaniesWorked'] < 3, 1)\n",
        "data['NumCompaniesWorked'] = np.where(data['NumCompaniesWorked'].between(3, 6), 2, data['NumCompaniesWorked'])\n",
        "data['NumCompaniesWorked'] = np.where(data['NumCompaniesWorked'].between(6, 9), 3, data['NumCompaniesWorked'])\n",
        "\n",
        "data['YearsAtCompany'] = data['YearsAtCompany'].mask(data['YearsAtCompany'] < 10, 1)\n",
        "data['YearsAtCompany'] = np.where(data['YearsAtCompany'].between(10,20), 2, data['YearsAtCompany'])\n",
        "data['YearsAtCompany'] = np.where(data['YearsAtCompany'].between(20,30), 3, data['YearsAtCompany'])\n",
        "data['YearsAtCompany'] = np.where(data['YearsAtCompany'].between(30,40), 4, data['YearsAtCompany'])\n",
        "\n",
        "data['MonthlyIncome'] = data['MonthlyIncome'].mask(data['MonthlyIncome'] < 2000, 1)\n",
        "data['MonthlyIncome'] = np.where(data['MonthlyIncome'].between(2000,4000), 2, data['MonthlyIncome'])\n",
        "data['MonthlyIncome'] = np.where(data['MonthlyIncome'].between(4000,8000), 3, data['MonthlyIncome'])\n",
        "data['MonthlyIncome'] = np.where(data['MonthlyIncome'].between(8000,16000), 4, data['MonthlyIncome'])\n",
        "data['MonthlyIncome'] = data['MonthlyIncome'].mask(data['MonthlyIncome'] > 16000, 5)\n",
        "\n",
        "data['DistanceFromHome'] = data['DistanceFromHome'].mask(data['DistanceFromHome'] < 6, 1)\n",
        "data['DistanceFromHome'] = np.where(data['DistanceFromHome'].between(6,12), 2, data['DistanceFromHome'])\n",
        "data['DistanceFromHome'] = np.where(data['DistanceFromHome'].between(12,18), 3, data['DistanceFromHome'])\n",
        "data['DistanceFromHome'] = np.where(data['DistanceFromHome'].between(18,24), 4, data['DistanceFromHome'])\n",
        "data['DistanceFromHome'] = data['DistanceFromHome'].mask(data['DistanceFromHome'] > 24, 5)"
      ],
      "metadata": {
        "id": "iI2RmkVh1uSz"
      },
      "execution_count": null,
      "outputs": []
    },
    {
      "cell_type": "markdown",
      "source": [
        "The processed variables now have the following range values:\n",
        "\n",
        "\n",
        "*   Attrition:\n",
        "  *   1: Yes\n",
        "  *   2: No\n",
        "*   Department:\n",
        "  *   1: Sales\n",
        "  *   2: Research & Development\n",
        "  *   3: Human Resources\n",
        "*   EducationField:\n",
        "  *   1: Life Sciences\n",
        "  *   2: Other\n",
        "  *   3: Medical\n",
        "  *   4: Marketing\n",
        "  *   5: Technical Degree\n",
        "  *   6: Human Resources\n",
        "*   MaritalStatus:\n",
        "  *   1: Single\n",
        "  *   2: Married\n",
        "  *   3: Divorced\n",
        "*   Age:\n",
        "  *   1: from 18 to 25 years old\n",
        "  *   2: from 26 to 32 years old\n",
        "  *   3: from 33 to 39 years old\n",
        "  *   4: from 40 to 46 years old\n",
        "  *   5: from 47 to 53 years old\n",
        "  *   6: from 54 to 60 years old\n",
        "*   NumCompaniesWorked:\n",
        "  *   1: less than 3\n",
        "  *   2: from 3 to 5\n",
        "  *   3: from 6 to 9\n",
        "*   DistanceFromHome:\n",
        "  *   1: less than 6 km\n",
        "  *   2: between 6 and 12 km\n",
        "  *   3: between 12 and 18 km\n",
        "  *   4: between 18and 24 km\n",
        "  *   5: more than 24 km\n",
        "*   MonthlyIncome:\n",
        "  *   1: less than 2000 USD\n",
        "  *   2: between 2000 and 4000 USD\n",
        "  *   3: between 4000 and 8000 USD\n",
        "  *   4: between 8000 and 16000 USD\n",
        "  *   5: more than 16000 USD\n",
        "*   YearsAtCompany:\n",
        "  *   1: less than 10 years\n",
        "  *   2: between 10 and 20 years\n",
        "  *   3: between 20 and 30 years\n",
        "  *   4: between 30 and 40 years\n",
        "\n",
        "\n",
        "\n",
        "\n",
        "\n",
        "\n",
        "\n",
        "\n",
        "\n",
        "\n",
        "\n",
        "\n",
        "\n",
        "\n",
        "\n"
      ],
      "metadata": {
        "id": "FPym1AKDnpMx"
      }
    },
    {
      "cell_type": "code",
      "source": [
        "data.info()"
      ],
      "metadata": {
        "colab": {
          "base_uri": "https://localhost:8080/"
        },
        "id": "2qDcUpO516jY",
        "outputId": "f515ed91-d350-431a-fda7-1d86cfe0d830"
      },
      "execution_count": null,
      "outputs": [
        {
          "output_type": "stream",
          "name": "stdout",
          "text": [
            "<class 'pandas.core.frame.DataFrame'>\n",
            "RangeIndex: 1470 entries, 0 to 1469\n",
            "Data columns (total 13 columns):\n",
            " #   Column                   Non-Null Count  Dtype\n",
            "---  ------                   --------------  -----\n",
            " 0   Age                      1470 non-null   int64\n",
            " 1   Attrition                1470 non-null   int64\n",
            " 2   Department               1470 non-null   int64\n",
            " 3   DistanceFromHome         1470 non-null   int64\n",
            " 4   Education                1470 non-null   int64\n",
            " 5   EducationField           1470 non-null   int64\n",
            " 6   EnvironmentSatisfaction  1470 non-null   int64\n",
            " 7   JobSatisfaction          1470 non-null   int64\n",
            " 8   MaritalStatus            1470 non-null   int64\n",
            " 9   MonthlyIncome            1470 non-null   int64\n",
            " 10  NumCompaniesWorked       1470 non-null   int64\n",
            " 11  WorkLifeBalance          1470 non-null   int64\n",
            " 12  YearsAtCompany           1470 non-null   int64\n",
            "dtypes: int64(13)\n",
            "memory usage: 149.4 KB\n"
          ]
        }
      ]
    },
    {
      "cell_type": "markdown",
      "source": [
        "The new dataset is presented."
      ],
      "metadata": {
        "id": "sE7a6NQcYkdN"
      }
    },
    {
      "cell_type": "code",
      "execution_count": null,
      "metadata": {
        "colab": {
          "base_uri": "https://localhost:8080/",
          "height": 270
        },
        "id": "A1FQ4VVleoTu",
        "outputId": "8fc39f94-dc12-497c-d62f-d124f73280ce"
      },
      "outputs": [
        {
          "output_type": "execute_result",
          "data": {
            "text/plain": [
              "   Age  Attrition  Department  DistanceFromHome  Education  EducationField  \\\n",
              "0    4          1           1                 1          2               1   \n",
              "1    5          2           2                 2          1               1   \n",
              "2    3          1           2                 1          2               2   \n",
              "3    3          2           2                 1          4               1   \n",
              "4    2          2           2                 1          1               3   \n",
              "\n",
              "   EnvironmentSatisfaction  JobSatisfaction  MaritalStatus  MonthlyIncome  \\\n",
              "0                        2                4              1              3   \n",
              "1                        3                2              2              3   \n",
              "2                        4                3              1              2   \n",
              "3                        4                3              2              2   \n",
              "4                        1                2              2              2   \n",
              "\n",
              "   NumCompaniesWorked  WorkLifeBalance  YearsAtCompany  \n",
              "0                   3                1               1  \n",
              "1                   1                3               2  \n",
              "2                   2                3               1  \n",
              "3                   1                3               1  \n",
              "4                   3                3               1  "
            ],
            "text/html": [
              "\n",
              "  <div id=\"df-dcc4f526-f334-4e46-80fe-ee486c5e374e\">\n",
              "    <div class=\"colab-df-container\">\n",
              "      <div>\n",
              "<style scoped>\n",
              "    .dataframe tbody tr th:only-of-type {\n",
              "        vertical-align: middle;\n",
              "    }\n",
              "\n",
              "    .dataframe tbody tr th {\n",
              "        vertical-align: top;\n",
              "    }\n",
              "\n",
              "    .dataframe thead th {\n",
              "        text-align: right;\n",
              "    }\n",
              "</style>\n",
              "<table border=\"1\" class=\"dataframe\">\n",
              "  <thead>\n",
              "    <tr style=\"text-align: right;\">\n",
              "      <th></th>\n",
              "      <th>Age</th>\n",
              "      <th>Attrition</th>\n",
              "      <th>Department</th>\n",
              "      <th>DistanceFromHome</th>\n",
              "      <th>Education</th>\n",
              "      <th>EducationField</th>\n",
              "      <th>EnvironmentSatisfaction</th>\n",
              "      <th>JobSatisfaction</th>\n",
              "      <th>MaritalStatus</th>\n",
              "      <th>MonthlyIncome</th>\n",
              "      <th>NumCompaniesWorked</th>\n",
              "      <th>WorkLifeBalance</th>\n",
              "      <th>YearsAtCompany</th>\n",
              "    </tr>\n",
              "  </thead>\n",
              "  <tbody>\n",
              "    <tr>\n",
              "      <th>0</th>\n",
              "      <td>4</td>\n",
              "      <td>1</td>\n",
              "      <td>1</td>\n",
              "      <td>1</td>\n",
              "      <td>2</td>\n",
              "      <td>1</td>\n",
              "      <td>2</td>\n",
              "      <td>4</td>\n",
              "      <td>1</td>\n",
              "      <td>3</td>\n",
              "      <td>3</td>\n",
              "      <td>1</td>\n",
              "      <td>1</td>\n",
              "    </tr>\n",
              "    <tr>\n",
              "      <th>1</th>\n",
              "      <td>5</td>\n",
              "      <td>2</td>\n",
              "      <td>2</td>\n",
              "      <td>2</td>\n",
              "      <td>1</td>\n",
              "      <td>1</td>\n",
              "      <td>3</td>\n",
              "      <td>2</td>\n",
              "      <td>2</td>\n",
              "      <td>3</td>\n",
              "      <td>1</td>\n",
              "      <td>3</td>\n",
              "      <td>2</td>\n",
              "    </tr>\n",
              "    <tr>\n",
              "      <th>2</th>\n",
              "      <td>3</td>\n",
              "      <td>1</td>\n",
              "      <td>2</td>\n",
              "      <td>1</td>\n",
              "      <td>2</td>\n",
              "      <td>2</td>\n",
              "      <td>4</td>\n",
              "      <td>3</td>\n",
              "      <td>1</td>\n",
              "      <td>2</td>\n",
              "      <td>2</td>\n",
              "      <td>3</td>\n",
              "      <td>1</td>\n",
              "    </tr>\n",
              "    <tr>\n",
              "      <th>3</th>\n",
              "      <td>3</td>\n",
              "      <td>2</td>\n",
              "      <td>2</td>\n",
              "      <td>1</td>\n",
              "      <td>4</td>\n",
              "      <td>1</td>\n",
              "      <td>4</td>\n",
              "      <td>3</td>\n",
              "      <td>2</td>\n",
              "      <td>2</td>\n",
              "      <td>1</td>\n",
              "      <td>3</td>\n",
              "      <td>1</td>\n",
              "    </tr>\n",
              "    <tr>\n",
              "      <th>4</th>\n",
              "      <td>2</td>\n",
              "      <td>2</td>\n",
              "      <td>2</td>\n",
              "      <td>1</td>\n",
              "      <td>1</td>\n",
              "      <td>3</td>\n",
              "      <td>1</td>\n",
              "      <td>2</td>\n",
              "      <td>2</td>\n",
              "      <td>2</td>\n",
              "      <td>3</td>\n",
              "      <td>3</td>\n",
              "      <td>1</td>\n",
              "    </tr>\n",
              "  </tbody>\n",
              "</table>\n",
              "</div>\n",
              "      <button class=\"colab-df-convert\" onclick=\"convertToInteractive('df-dcc4f526-f334-4e46-80fe-ee486c5e374e')\"\n",
              "              title=\"Convert this dataframe to an interactive table.\"\n",
              "              style=\"display:none;\">\n",
              "        \n",
              "  <svg xmlns=\"http://www.w3.org/2000/svg\" height=\"24px\"viewBox=\"0 0 24 24\"\n",
              "       width=\"24px\">\n",
              "    <path d=\"M0 0h24v24H0V0z\" fill=\"none\"/>\n",
              "    <path d=\"M18.56 5.44l.94 2.06.94-2.06 2.06-.94-2.06-.94-.94-2.06-.94 2.06-2.06.94zm-11 1L8.5 8.5l.94-2.06 2.06-.94-2.06-.94L8.5 2.5l-.94 2.06-2.06.94zm10 10l.94 2.06.94-2.06 2.06-.94-2.06-.94-.94-2.06-.94 2.06-2.06.94z\"/><path d=\"M17.41 7.96l-1.37-1.37c-.4-.4-.92-.59-1.43-.59-.52 0-1.04.2-1.43.59L10.3 9.45l-7.72 7.72c-.78.78-.78 2.05 0 2.83L4 21.41c.39.39.9.59 1.41.59.51 0 1.02-.2 1.41-.59l7.78-7.78 2.81-2.81c.8-.78.8-2.07 0-2.86zM5.41 20L4 18.59l7.72-7.72 1.47 1.35L5.41 20z\"/>\n",
              "  </svg>\n",
              "      </button>\n",
              "      \n",
              "  <style>\n",
              "    .colab-df-container {\n",
              "      display:flex;\n",
              "      flex-wrap:wrap;\n",
              "      gap: 12px;\n",
              "    }\n",
              "\n",
              "    .colab-df-convert {\n",
              "      background-color: #E8F0FE;\n",
              "      border: none;\n",
              "      border-radius: 50%;\n",
              "      cursor: pointer;\n",
              "      display: none;\n",
              "      fill: #1967D2;\n",
              "      height: 32px;\n",
              "      padding: 0 0 0 0;\n",
              "      width: 32px;\n",
              "    }\n",
              "\n",
              "    .colab-df-convert:hover {\n",
              "      background-color: #E2EBFA;\n",
              "      box-shadow: 0px 1px 2px rgba(60, 64, 67, 0.3), 0px 1px 3px 1px rgba(60, 64, 67, 0.15);\n",
              "      fill: #174EA6;\n",
              "    }\n",
              "\n",
              "    [theme=dark] .colab-df-convert {\n",
              "      background-color: #3B4455;\n",
              "      fill: #D2E3FC;\n",
              "    }\n",
              "\n",
              "    [theme=dark] .colab-df-convert:hover {\n",
              "      background-color: #434B5C;\n",
              "      box-shadow: 0px 1px 3px 1px rgba(0, 0, 0, 0.15);\n",
              "      filter: drop-shadow(0px 1px 2px rgba(0, 0, 0, 0.3));\n",
              "      fill: #FFFFFF;\n",
              "    }\n",
              "  </style>\n",
              "\n",
              "      <script>\n",
              "        const buttonEl =\n",
              "          document.querySelector('#df-dcc4f526-f334-4e46-80fe-ee486c5e374e button.colab-df-convert');\n",
              "        buttonEl.style.display =\n",
              "          google.colab.kernel.accessAllowed ? 'block' : 'none';\n",
              "\n",
              "        async function convertToInteractive(key) {\n",
              "          const element = document.querySelector('#df-dcc4f526-f334-4e46-80fe-ee486c5e374e');\n",
              "          const dataTable =\n",
              "            await google.colab.kernel.invokeFunction('convertToInteractive',\n",
              "                                                     [key], {});\n",
              "          if (!dataTable) return;\n",
              "\n",
              "          const docLinkHtml = 'Like what you see? Visit the ' +\n",
              "            '<a target=\"_blank\" href=https://colab.research.google.com/notebooks/data_table.ipynb>data table notebook</a>'\n",
              "            + ' to learn more about interactive tables.';\n",
              "          element.innerHTML = '';\n",
              "          dataTable['output_type'] = 'display_data';\n",
              "          await google.colab.output.renderOutput(dataTable, element);\n",
              "          const docLink = document.createElement('div');\n",
              "          docLink.innerHTML = docLinkHtml;\n",
              "          element.appendChild(docLink);\n",
              "        }\n",
              "      </script>\n",
              "    </div>\n",
              "  </div>\n",
              "  "
            ]
          },
          "metadata": {},
          "execution_count": 28
        }
      ],
      "source": [
        "data.head()"
      ]
    },
    {
      "cell_type": "markdown",
      "source": [
        "Now the data is ready to be used."
      ],
      "metadata": {
        "id": "8LkNAxNU1_3_"
      }
    },
    {
      "cell_type": "markdown",
      "source": [
        "# **2. Bayesian Network building**"
      ],
      "metadata": {
        "id": "vl6N4S9T2QIu"
      }
    },
    {
      "cell_type": "markdown",
      "source": [
        "The Bayesian Network is modeled following causal links, both from the scientific paper and our own intuitions.\n",
        "\n"
      ],
      "metadata": {
        "id": "Hw99y_BU_G93"
      }
    },
    {
      "cell_type": "code",
      "execution_count": null,
      "metadata": {
        "id": "6XvJgSSzh9xe"
      },
      "outputs": [],
      "source": [
        "#Bayesian Network structure\n",
        "model = BayesianNetwork([('Age', 'MaritalStatus'), \n",
        "                       ('Age', 'NumCompaniesWorked'),\n",
        "                       ('Age', 'YearsAtCompany'),\n",
        "                       ('Education', 'MonthlyIncome'),                       \n",
        "                       ('EducationField', 'MonthlyIncome'),\n",
        "                       ('Department', 'MonthlyIncome'),                       \n",
        "                       ('YearsAtCompany', 'MonthlyIncome'),\n",
        "                       ('NumCompaniesWorked', 'Attrition'),\n",
        "                       ('MaritalStatus', 'Attrition'),\n",
        "                       ('MonthlyIncome', 'JobSatisfaction'),\n",
        "                       ('DistanceFromHome', 'JobSatisfaction'),\n",
        "                       ('EnvironmentSatisfaction', 'JobSatisfaction'),\n",
        "                       ('JobSatisfaction', 'Attrition'),\n",
        "                       ('WorkLifeBalance', 'Attrition')])"
      ]
    },
    {
      "cell_type": "markdown",
      "source": [
        "Then, the CPDs are obtained, according to the causal relations considered in the modeling of the Bayesian Network, and the relative CPTs are shown."
      ],
      "metadata": {
        "id": "6J4-Wyc1_YJK"
      }
    },
    {
      "cell_type": "code",
      "execution_count": null,
      "metadata": {
        "id": "_4Il3j7akAcO"
      },
      "outputs": [],
      "source": [
        "#fit data to the Bayesian Network\n",
        "model.cpds = []\n",
        "model.fit(data)"
      ]
    },
    {
      "cell_type": "code",
      "execution_count": null,
      "metadata": {
        "colab": {
          "base_uri": "https://localhost:8080/"
        },
        "id": "hshkWLuqkb8_",
        "outputId": "b6cc18b5-0855-46be-c162-c55f189f532c"
      },
      "outputs": [
        {
          "output_type": "stream",
          "name": "stdout",
          "text": [
            "CPT of Age\n",
            "+--------+-----------+\n",
            "| Age(1) | 0.0836735 |\n",
            "+--------+-----------+\n",
            "| Age(2) | 0.267347  |\n",
            "+--------+-----------+\n",
            "| Age(3) | 0.293878  |\n",
            "+--------+-----------+\n",
            "| Age(4) | 0.191837  |\n",
            "+--------+-----------+\n",
            "| Age(5) | 0.104082  |\n",
            "+--------+-----------+\n",
            "| Age(6) | 0.0591837 |\n",
            "+--------+-----------+ \n",
            "\n",
            "CPT of MaritalStatus\n",
            "+------------------+-----+---------------------+\n",
            "| Age              | ... | Age(6)              |\n",
            "+------------------+-----+---------------------+\n",
            "| MaritalStatus(1) | ... | 0.27586206896551724 |\n",
            "+------------------+-----+---------------------+\n",
            "| MaritalStatus(2) | ... | 0.5057471264367817  |\n",
            "+------------------+-----+---------------------+\n",
            "| MaritalStatus(3) | ... | 0.21839080459770116 |\n",
            "+------------------+-----+---------------------+ \n",
            "\n",
            "CPT of NumCompaniesWorked\n",
            "+-----------------------+-----+---------------------+\n",
            "| Age                   | ... | Age(6)              |\n",
            "+-----------------------+-----+---------------------+\n",
            "| NumCompaniesWorked(1) | ... | 0.26436781609195403 |\n",
            "+-----------------------+-----+---------------------+\n",
            "| NumCompaniesWorked(2) | ... | 0.4942528735632184  |\n",
            "+-----------------------+-----+---------------------+\n",
            "| NumCompaniesWorked(3) | ... | 0.2413793103448276  |\n",
            "+-----------------------+-----+---------------------+ \n",
            "\n",
            "CPT of YearsAtCompany\n",
            "+-------------------+--------+-----+----------------------+\n",
            "| Age               | Age(1) | ... | Age(6)               |\n",
            "+-------------------+--------+-----+----------------------+\n",
            "| YearsAtCompany(1) | 1.0    | ... | 0.6781609195402298   |\n",
            "+-------------------+--------+-----+----------------------+\n",
            "| YearsAtCompany(2) | 0.0    | ... | 0.21839080459770116  |\n",
            "+-------------------+--------+-----+----------------------+\n",
            "| YearsAtCompany(3) | 0.0    | ... | 0.034482758620689655 |\n",
            "+-------------------+--------+-----+----------------------+\n",
            "| YearsAtCompany(4) | 0.0    | ... | 0.06896551724137931  |\n",
            "+-------------------+--------+-----+----------------------+ \n",
            "\n",
            "CPT of Education\n",
            "+--------------+-----------+\n",
            "| Education(1) | 0.115646  |\n",
            "+--------------+-----------+\n",
            "| Education(2) | 0.191837  |\n",
            "+--------------+-----------+\n",
            "| Education(3) | 0.389116  |\n",
            "+--------------+-----------+\n",
            "| Education(4) | 0.270748  |\n",
            "+--------------+-----------+\n",
            "| Education(5) | 0.0326531 |\n",
            "+--------------+-----------+ \n",
            "\n",
            "CPT of MonthlyIncome\n",
            "+------------------+-----+-------------------+\n",
            "| Department       | ... | Department(3)     |\n",
            "+------------------+-----+-------------------+\n",
            "| Education        | ... | Education(5)      |\n",
            "+------------------+-----+-------------------+\n",
            "| EducationField   | ... | EducationField(6) |\n",
            "+------------------+-----+-------------------+\n",
            "| YearsAtCompany   | ... | YearsAtCompany(4) |\n",
            "+------------------+-----+-------------------+\n",
            "| MonthlyIncome(1) | ... | 0.2               |\n",
            "+------------------+-----+-------------------+\n",
            "| MonthlyIncome(2) | ... | 0.2               |\n",
            "+------------------+-----+-------------------+\n",
            "| MonthlyIncome(3) | ... | 0.2               |\n",
            "+------------------+-----+-------------------+\n",
            "| MonthlyIncome(4) | ... | 0.2               |\n",
            "+------------------+-----+-------------------+\n",
            "| MonthlyIncome(5) | ... | 0.2               |\n",
            "+------------------+-----+-------------------+ \n",
            "\n",
            "CPT of EducationField\n",
            "+-------------------+-----------+\n",
            "| EducationField(1) | 0.412245  |\n",
            "+-------------------+-----------+\n",
            "| EducationField(2) | 0.0557823 |\n",
            "+-------------------+-----------+\n",
            "| EducationField(3) | 0.315646  |\n",
            "+-------------------+-----------+\n",
            "| EducationField(4) | 0.108163  |\n",
            "+-------------------+-----------+\n",
            "| EducationField(5) | 0.0897959 |\n",
            "+-------------------+-----------+\n",
            "| EducationField(6) | 0.0183673 |\n",
            "+-------------------+-----------+ \n",
            "\n",
            "CPT of Department\n",
            "+---------------+-----------+\n",
            "| Department(1) | 0.303401  |\n",
            "+---------------+-----------+\n",
            "| Department(2) | 0.653741  |\n",
            "+---------------+-----------+\n",
            "| Department(3) | 0.0428571 |\n",
            "+---------------+-----------+ \n",
            "\n",
            "CPT of Attrition\n",
            "+--------------------+-----+-----------------------+\n",
            "| JobSatisfaction    | ... | JobSatisfaction(4)    |\n",
            "+--------------------+-----+-----------------------+\n",
            "| MaritalStatus      | ... | MaritalStatus(3)      |\n",
            "+--------------------+-----+-----------------------+\n",
            "| NumCompaniesWorked | ... | NumCompaniesWorked(3) |\n",
            "+--------------------+-----+-----------------------+\n",
            "| WorkLifeBalance    | ... | WorkLifeBalance(4)    |\n",
            "+--------------------+-----+-----------------------+\n",
            "| Attrition(1)       | ... | 0.5                   |\n",
            "+--------------------+-----+-----------------------+\n",
            "| Attrition(2)       | ... | 0.5                   |\n",
            "+--------------------+-----+-----------------------+ \n",
            "\n",
            "CPT of JobSatisfaction\n",
            "+-------------------------+-----+----------------------------+\n",
            "| DistanceFromHome        | ... | DistanceFromHome(5)        |\n",
            "+-------------------------+-----+----------------------------+\n",
            "| EnvironmentSatisfaction | ... | EnvironmentSatisfaction(4) |\n",
            "+-------------------------+-----+----------------------------+\n",
            "| MonthlyIncome           | ... | MonthlyIncome(5)           |\n",
            "+-------------------------+-----+----------------------------+\n",
            "| JobSatisfaction(1)      | ... | 0.4                        |\n",
            "+-------------------------+-----+----------------------------+\n",
            "| JobSatisfaction(2)      | ... | 0.2                        |\n",
            "+-------------------------+-----+----------------------------+\n",
            "| JobSatisfaction(3)      | ... | 0.2                        |\n",
            "+-------------------------+-----+----------------------------+\n",
            "| JobSatisfaction(4)      | ... | 0.2                        |\n",
            "+-------------------------+-----+----------------------------+ \n",
            "\n",
            "CPT of DistanceFromHome\n",
            "+---------------------+-----------+\n",
            "| DistanceFromHome(1) | 0.429932  |\n",
            "+---------------------+-----------+\n",
            "| DistanceFromHome(2) | 0.301361  |\n",
            "+---------------------+-----------+\n",
            "| DistanceFromHome(3) | 0.0979592 |\n",
            "+---------------------+-----------+\n",
            "| DistanceFromHome(4) | 0.0945578 |\n",
            "+---------------------+-----------+\n",
            "| DistanceFromHome(5) | 0.0761905 |\n",
            "+---------------------+-----------+ \n",
            "\n",
            "CPT of EnvironmentSatisfaction\n",
            "+----------------------------+----------+\n",
            "| EnvironmentSatisfaction(1) | 0.193197 |\n",
            "+----------------------------+----------+\n",
            "| EnvironmentSatisfaction(2) | 0.195238 |\n",
            "+----------------------------+----------+\n",
            "| EnvironmentSatisfaction(3) | 0.308163 |\n",
            "+----------------------------+----------+\n",
            "| EnvironmentSatisfaction(4) | 0.303401 |\n",
            "+----------------------------+----------+ \n",
            "\n",
            "CPT of WorkLifeBalance\n",
            "+--------------------+-----------+\n",
            "| WorkLifeBalance(1) | 0.0544218 |\n",
            "+--------------------+-----------+\n",
            "| WorkLifeBalance(2) | 0.234014  |\n",
            "+--------------------+-----------+\n",
            "| WorkLifeBalance(3) | 0.607483  |\n",
            "+--------------------+-----------+\n",
            "| WorkLifeBalance(4) | 0.104082  |\n",
            "+--------------------+-----------+ \n",
            "\n"
          ]
        }
      ],
      "source": [
        "#CPT visualization for each variable\n",
        "for cpd in model.get_cpds():\n",
        "    print('CPT of {}'.format(cpd.variable))\n",
        "    print(cpd, '\\n')"
      ]
    },
    {
      "cell_type": "markdown",
      "source": [
        "The nodes are relabled in order for them to fit better in the graphical representation of the Bayesian Network, for the sake of readability."
      ],
      "metadata": {
        "id": "pPfJLjta_2jY"
      }
    },
    {
      "cell_type": "code",
      "execution_count": null,
      "metadata": {
        "id": "IT8gpCCcHaQr"
      },
      "outputs": [],
      "source": [
        "#Nodes relabling\n",
        "nodes = nx.relabel_nodes(model, {'MonthlyIncome':'MI', 'NumCompaniesWorked':'NCW', 'Department':'DPT', \n",
        "                             'YearsAtCompany':'YAC', 'Education':'EDU', 'Age':'AGE', \n",
        "                             'MaritalStatus':'MS', 'WorkLifeBalance':'WLB', 'EducationField':'EF', \n",
        "                             'JobSatisfaction':'JS', 'EnvironmentSatisfaction': 'ES',\n",
        "                             'DistanceFromHome':'DFH', 'Attrition':'ATT'})"
      ]
    },
    {
      "cell_type": "code",
      "source": [
        "#Bayesian Network graphical plot\n",
        "plt.figure(figsize=(10, 4))\n",
        "nx.draw(nodes, pos=nx.planar_layout(nodes), node_color='#00b4d9', node_size=1500, with_labels=True, font_color='w', font_weight='bold')\n",
        "plt.title('Structure of the Bayesian Network')\n",
        "plt.show()"
      ],
      "metadata": {
        "colab": {
          "base_uri": "https://localhost:8080/",
          "height": 335
        },
        "id": "el-uaP4PKX7W",
        "outputId": "ca824202-662d-4082-9c30-f7d650324235"
      },
      "execution_count": null,
      "outputs": [
        {
          "output_type": "display_data",
          "data": {
            "text/plain": [
              "<Figure size 720x288 with 1 Axes>"
            ],
            "image/png": "[encoded data removed]"
          },
          "metadata": {}
        }
      ]
    },
    {
      "cell_type": "markdown",
      "source": [
        "# **3. Inference**"
      ],
      "metadata": {
        "id": "U2yfMQWtAP0O"
      }
    },
    {
      "cell_type": "markdown",
      "source": [
        "This Bayesian Network is constructed to determine which are the most relevant causes that lead an employee to attition. In order to do this, two kind of inference have been used:\n",
        "\n",
        "\n",
        "*   Exact Inference: in particular, Variable Elimination;\n",
        "*   Approximate Inference: in paricular, Likelihood Weighted Sampling.\n",
        "\n"
      ],
      "metadata": {
        "id": "eNQZ4T3wCCnF"
      }
    },
    {
      "cell_type": "markdown",
      "source": [
        "**3.1 Exact Inference**"
      ],
      "metadata": {
        "id": "d09TAnCTZlUw"
      }
    },
    {
      "cell_type": "markdown",
      "source": [
        "Firstly, Exact Inference is used.\n",
        "To determine which variable affects the most the attrition, all the variables must be considered alone as evidence, using all the values that they can take, and \"Attrition\" as the query variable."
      ],
      "metadata": {
        "id": "hRKbxgTUZq6e"
      }
    },
    {
      "cell_type": "code",
      "source": [
        "inference_ve = VariableElimination(model)"
      ],
      "metadata": {
        "id": "2DW-XyDHaMuN"
      },
      "execution_count": null,
      "outputs": []
    },
    {
      "cell_type": "code",
      "source": [
        "variables = list(data) #all the dataset variables into a list\n",
        "variables.remove(\"Attrition\") #Attrition is removed from variables list\n",
        "\n",
        "causes_attrition = {} #dictionary\n",
        "\n",
        "for variable in variables: #for each variable in variables\n",
        "  for variable_value in sorted(data[variable].unique()): #for each variable value\n",
        "      q = inference_ve.query(variables=[\"Attrition\"], evidence={variable : variable_value}) #Attrition taken as query variable, given 'variable' and its value as evidence\n",
        "      #save as value of dictionary the biggest probability of attrition and its value\n",
        "      if causes_attrition.get(variable):  #if a value already exists, \n",
        "        if q.values[0] > causes_attrition[variable][0]: #compare if the current value is bigger than the one saved\n",
        "          causes_attrition[variable] = [q.values[0], variable_value]  #save the current value \n",
        "      else:  #if no value already exists\n",
        "        causes_attrition[variable] = [q.values[0], variable_value]  #save the current value\n",
        "\n",
        "causes_attrition = dict(sorted(causes_attrition.items(), key=lambda x:x[1], reverse=True)) #dictionary sorting\n",
        "causes_attrition"
      ],
      "metadata": {
        "colab": {
          "base_uri": "https://localhost:8080/"
        },
        "id": "c2ULOOXhFfV9",
        "outputId": "2a5f02fd-4e37-4cbd-85e3-9694a222f5dc"
      },
      "execution_count": null,
      "outputs": [
        {
          "output_type": "execute_result",
          "data": {
            "text/plain": [
              "{'WorkLifeBalance': [0.2893415655079567, 1],\n",
              " 'MaritalStatus': [0.2554355044181135, 1],\n",
              " 'JobSatisfaction': [0.23355882659607066, 1],\n",
              " 'NumCompaniesWorked': [0.19804300926225943, 3],\n",
              " 'Age': [0.18869024857579433, 1],\n",
              " 'DistanceFromHome': [0.16696186816454775, 3],\n",
              " 'MonthlyIncome': [0.15885527466696087, 4],\n",
              " 'YearsAtCompany': [0.15878629184110474, 1],\n",
              " 'EnvironmentSatisfaction': [0.15870031211569716, 3],\n",
              " 'Department': [0.1578756959940392, 3],\n",
              " 'Education': [0.15787565740892076, 5],\n",
              " 'EducationField': [0.15787017520745403, 5]}"
            ]
          },
          "metadata": {},
          "execution_count": 15
        }
      ]
    },
    {
      "cell_type": "markdown",
      "source": [
        "The results obtained show that the three attributes that have the most influence on employee attrition are WorkLifeBalance, MaritalStatus and JobSatisfaction. Moreover, it is to be noted that the variables WorkLifeBalance and JobSatisfaction assume the lowest value in their relative range of values, meaning that a poor work life balance and a low job satisfaction lead to a higher attrition probability, and the MartitalStatus has value 1, which means that when the employee is not in a sentimental reationship, it is more likely that he/she will quit the job."
      ],
      "metadata": {
        "id": "_sAWp9tpawYj"
      }
    },
    {
      "cell_type": "code",
      "source": [
        "variables = list(data) #all the dataset variables into a list\n",
        "variables.remove(\"Attrition\") #Attrition is removed from variables list beacause it's useless\n",
        "\n",
        "causes_no_attrition = {}\n",
        "\n",
        "for variable in variables: #for each variable in variables\n",
        "  for variable_value in sorted(data[variable].unique()): #for each variable value\n",
        "      q = inference_ve.query(variables=[\"Attrition\"], evidence={variable : variable_value}) #Attrition query given variable and its value as evidence\n",
        "      #save as value of dictionary the biggest probability of not attrition and its value\n",
        "      if causes_no_attrition.get(variable):\n",
        "        if q.values[1] > causes_no_attrition[variable][0]:\n",
        "          causes_no_attrition[variable] = [q.values[1], variable_value]\n",
        "      else:  \n",
        "        causes_no_attrition[variable] = [q.values[1], variable_value]\n",
        "\n",
        "causes_no_attrition = sorted(causes_no_attrition.items(), key=lambda x:x[1], reverse=True) #dictionary sorting\n",
        "causes_no_attrition"
      ],
      "metadata": {
        "colab": {
          "base_uri": "https://localhost:8080/"
        },
        "id": "X07KHaTKMVoW",
        "outputId": "b84d0821-08b5-4fe4-c5b0-00b36df22bd9"
      },
      "execution_count": null,
      "outputs": [
        {
          "output_type": "execute_result",
          "data": {
            "text/plain": [
              "[('MaritalStatus', [0.9035173917488998, 3]),\n",
              " ('JobSatisfaction', [0.8954756379526192, 4]),\n",
              " ('WorkLifeBalance', [0.8603972742361692, 3]),\n",
              " ('NumCompaniesWorked', [0.856900137668281, 2]),\n",
              " ('Age', [0.8501299036167518, 4]),\n",
              " ('DistanceFromHome', [0.8489023410728581, 4]),\n",
              " ('YearsAtCompany', [0.8474029446403968, 3]),\n",
              " ('MonthlyIncome', [0.8469594312059777, 1]),\n",
              " ('EnvironmentSatisfaction', [0.8431755486774041, 2]),\n",
              " ('EducationField', [0.8425037340094964, 6]),\n",
              " ('Department', [0.8423983699134776, 1]),\n",
              " ('Education', [0.8423960004970307, 2])]"
            ]
          },
          "metadata": {},
          "execution_count": 16
        }
      ]
    },
    {
      "cell_type": "markdown",
      "source": [
        "On the other side, it is possible to see that the three most influential variables considered before are also the ones that influence the most the case in which the employee doesn't leave the job, obviously considering different values."
      ],
      "metadata": {
        "id": "8oqHCG3wcjK-"
      }
    },
    {
      "cell_type": "markdown",
      "source": [
        "Proceeding with the analysis, exploiting Evidential Reasoning, it's possible to query Age and Education given Attrition = Yes."
      ],
      "metadata": {
        "id": "fPxDd1ETdI4N"
      }
    },
    {
      "cell_type": "code",
      "source": [
        "query = inference_ve.query(variables=[\"Age\"], evidence={\"Attrition\": 1})\n",
        "print(query)"
      ],
      "metadata": {
        "colab": {
          "base_uri": "https://localhost:8080/"
        },
        "id": "zf3_JYo4YUT7",
        "outputId": "27c31d98-e31d-4262-8cd1-875a3830cdf0"
      },
      "execution_count": null,
      "outputs": [
        {
          "output_type": "stream",
          "name": "stdout",
          "text": [
            "+--------+------------+\n",
            "| Age    |   phi(Age) |\n",
            "+========+============+\n",
            "| Age(1) |     0.1001 |\n",
            "+--------+------------+\n",
            "| Age(2) |     0.2682 |\n",
            "+--------+------------+\n",
            "| Age(3) |     0.2907 |\n",
            "+--------+------------+\n",
            "| Age(4) |     0.1822 |\n",
            "+--------+------------+\n",
            "| Age(5) |     0.1004 |\n",
            "+--------+------------+\n",
            "| Age(6) |     0.0584 |\n",
            "+--------+------------+\n"
          ]
        }
      ]
    },
    {
      "cell_type": "code",
      "source": [
        "query = inference_ve.query(variables=[\"Education\"], evidence={\"Attrition\": 1})\n",
        "print(query)"
      ],
      "metadata": {
        "colab": {
          "base_uri": "https://localhost:8080/"
        },
        "id": "fwtMvJvwYiC9",
        "outputId": "5e36c14c-ef9c-46be-aab4-ab5972e8f05a"
      },
      "execution_count": null,
      "outputs": [
        {
          "output_type": "stream",
          "name": "stdout",
          "text": [
            "+--------------+------------------+\n",
            "| Education    |   phi(Education) |\n",
            "+==============+==================+\n",
            "| Education(1) |           0.1156 |\n",
            "+--------------+------------------+\n",
            "| Education(2) |           0.1917 |\n",
            "+--------------+------------------+\n",
            "| Education(3) |           0.3893 |\n",
            "+--------------+------------------+\n",
            "| Education(4) |           0.2708 |\n",
            "+--------------+------------------+\n",
            "| Education(5) |           0.0327 |\n",
            "+--------------+------------------+\n"
          ]
        }
      ]
    },
    {
      "cell_type": "markdown",
      "source": [
        "Intercausal Reasoning is now studied, considering MonthlyIncome as query variable and Age as evidence."
      ],
      "metadata": {
        "id": "3alfZ0aguowc"
      }
    },
    {
      "cell_type": "code",
      "source": [
        "unique = sorted(data[\"Age\"].unique())\n",
        "\n",
        "for value in unique:\n",
        "  query = inference_ve.query(variables=[\"MonthlyIncome\"], evidence={\"Age\": value})\n",
        "  print(\"Age:\",value,\"\\n\",query)"
      ],
      "metadata": {
        "colab": {
          "base_uri": "https://localhost:8080/"
        },
        "id": "eDnYdUDdYmMr",
        "outputId": "0b7a1718-1d78-4979-b7db-f4d847715a47"
      },
      "execution_count": null,
      "outputs": [
        {
          "output_type": "stream",
          "name": "stdout",
          "text": [
            "Age: 1 \n",
            " +------------------+----------------------+\n",
            "| MonthlyIncome    |   phi(MonthlyIncome) |\n",
            "+==================+======================+\n",
            "| MonthlyIncome(1) |               0.0449 |\n",
            "+------------------+----------------------+\n",
            "| MonthlyIncome(2) |               0.3911 |\n",
            "+------------------+----------------------+\n",
            "| MonthlyIncome(3) |               0.3578 |\n",
            "+------------------+----------------------+\n",
            "| MonthlyIncome(4) |               0.1470 |\n",
            "+------------------+----------------------+\n",
            "| MonthlyIncome(5) |               0.0592 |\n",
            "+------------------+----------------------+\n",
            "Age: 2 \n",
            " +------------------+----------------------+\n",
            "| MonthlyIncome    |   phi(MonthlyIncome) |\n",
            "+==================+======================+\n",
            "| MonthlyIncome(1) |               0.0420 |\n",
            "+------------------+----------------------+\n",
            "| MonthlyIncome(2) |               0.3492 |\n",
            "+------------------+----------------------+\n",
            "| MonthlyIncome(3) |               0.3691 |\n",
            "+------------------+----------------------+\n",
            "| MonthlyIncome(4) |               0.1712 |\n",
            "+------------------+----------------------+\n",
            "| MonthlyIncome(5) |               0.0686 |\n",
            "+------------------+----------------------+\n",
            "Age: 3 \n",
            " +------------------+----------------------+\n",
            "| MonthlyIncome    |   phi(MonthlyIncome) |\n",
            "+==================+======================+\n",
            "| MonthlyIncome(1) |               0.0402 |\n",
            "+------------------+----------------------+\n",
            "| MonthlyIncome(2) |               0.3161 |\n",
            "+------------------+----------------------+\n",
            "| MonthlyIncome(3) |               0.3737 |\n",
            "+------------------+----------------------+\n",
            "| MonthlyIncome(4) |               0.1897 |\n",
            "+------------------+----------------------+\n",
            "| MonthlyIncome(5) |               0.0803 |\n",
            "+------------------+----------------------+\n",
            "Age: 4 \n",
            " +------------------+----------------------+\n",
            "| MonthlyIncome    |   phi(MonthlyIncome) |\n",
            "+==================+======================+\n",
            "| MonthlyIncome(1) |               0.0420 |\n",
            "+------------------+----------------------+\n",
            "| MonthlyIncome(2) |               0.2978 |\n",
            "+------------------+----------------------+\n",
            "| MonthlyIncome(3) |               0.3442 |\n",
            "+------------------+----------------------+\n",
            "| MonthlyIncome(4) |               0.1954 |\n",
            "+------------------+----------------------+\n",
            "| MonthlyIncome(5) |               0.1206 |\n",
            "+------------------+----------------------+\n",
            "Age: 5 \n",
            " +------------------+----------------------+\n",
            "| MonthlyIncome    |   phi(MonthlyIncome) |\n",
            "+==================+======================+\n",
            "| MonthlyIncome(1) |               0.0485 |\n",
            "+------------------+----------------------+\n",
            "| MonthlyIncome(2) |               0.3039 |\n",
            "+------------------+----------------------+\n",
            "| MonthlyIncome(3) |               0.3337 |\n",
            "+------------------+----------------------+\n",
            "| MonthlyIncome(4) |               0.1907 |\n",
            "+------------------+----------------------+\n",
            "| MonthlyIncome(5) |               0.1232 |\n",
            "+------------------+----------------------+\n",
            "Age: 6 \n",
            " +------------------+----------------------+\n",
            "| MonthlyIncome    |   phi(MonthlyIncome) |\n",
            "+==================+======================+\n",
            "| MonthlyIncome(1) |               0.0477 |\n",
            "+------------------+----------------------+\n",
            "| MonthlyIncome(2) |               0.3073 |\n",
            "+------------------+----------------------+\n",
            "| MonthlyIncome(3) |               0.3476 |\n",
            "+------------------+----------------------+\n",
            "| MonthlyIncome(4) |               0.1909 |\n",
            "+------------------+----------------------+\n",
            "| MonthlyIncome(5) |               0.1065 |\n",
            "+------------------+----------------------+\n"
          ]
        }
      ]
    },
    {
      "cell_type": "markdown",
      "source": [
        "**3.2 Approximate Inference**"
      ],
      "metadata": {
        "id": "wFSU3KvjdDfr"
      }
    },
    {
      "cell_type": "markdown",
      "source": [
        "The same analysis can be done using Approximate Inference."
      ],
      "metadata": {
        "id": "8268M83Be23p"
      }
    },
    {
      "cell_type": "code",
      "source": [
        "inference_bms = BayesianModelSampling(model)"
      ],
      "metadata": {
        "id": "oDHVawcxhJFD"
      },
      "execution_count": null,
      "outputs": []
    },
    {
      "cell_type": "code",
      "source": [
        "def likelihood_weighting(Q,evidence,n):\n",
        "  samples = inference_bms.likelihood_weighted_sample(evidence=evidence, size=n, seed=0, show_progress=False)\n",
        "\n",
        "  unique = samples[Q].unique()\n",
        "  unique.sort()\n",
        "      \n",
        "  prob_lst = []\n",
        "\n",
        "  for val in unique:\n",
        "      rows = samples[samples[Q] == val]\n",
        "          \n",
        "      numerator = np.sum(rows['_weight'])\n",
        "      denominator = np.sum(samples['_weight'])\n",
        "      prob = round(numerator/denominator, 6)\n",
        "          \n",
        "      prob_lst.append(prob)\n",
        "  \n",
        "  return prob_lst\n"
      ],
      "metadata": {
        "id": "aAxyUtl5PlC0"
      },
      "execution_count": null,
      "outputs": []
    },
    {
      "cell_type": "code",
      "source": [
        "variables = list(data) #all the dataset variables into a list\n",
        "variables.remove(\"Attrition\") #Attrition is removed from variables list beacause it's useless\n",
        "\n",
        "causes_attrition = {}\n",
        "\n",
        "for variable in variables: #for each variable in variables\n",
        "  for variable_value in sorted(data[variable].unique()): #for each variable value\n",
        "      q = likelihood_weighting(\"Attrition\", [State(variable, variable_value)], 10000)\n",
        "      #save as value of dictionary the biggest probability of attrition and its value\n",
        "      if causes_attrition.get(variable):\n",
        "        if q[0] > causes_attrition[variable][0]:\n",
        "          causes_attrition[variable] = [q[0], variable_value]\n",
        "      else:  \n",
        "        causes_attrition[variable] = [q[0], variable_value]\n",
        "\n",
        "causes_attrition = sorted(causes_attrition.items(), key=lambda x:x[1], reverse=True) #dictionary sorting\n",
        "causes_attrition"
      ],
      "metadata": {
        "colab": {
          "base_uri": "https://localhost:8080/"
        },
        "id": "qhjhlQsyQcYT",
        "outputId": "b4c5f7e4-59b9-4e2b-e9a1-f9c9d60e35fc"
      },
      "execution_count": null,
      "outputs": [
        {
          "output_type": "stream",
          "name": "stderr",
          "text": [
            "/usr/local/lib/python3.8/dist-packages/pgmpy/utils/mathext.py:83: UserWarning: Probability values don't exactly sum to 1. Differ by: 1.1102230246251565e-16. Adjusting values.\n",
            "  warn(\n"
          ]
        },
        {
          "output_type": "execute_result",
          "data": {
            "text/plain": [
              "[('WorkLifeBalance', [0.2741, 1]),\n",
              " ('NumCompaniesWorked', [0.268735, 3]),\n",
              " ('MaritalStatus', [0.251787, 1]),\n",
              " ('JobSatisfaction', [0.236328, 2]),\n",
              " ('Age', [0.2015, 6]),\n",
              " ('YearsAtCompany', [0.191589, 3]),\n",
              " ('DistanceFromHome', [0.1888, 3]),\n",
              " ('MonthlyIncome', [0.188479, 4]),\n",
              " ('EducationField', [0.1862, 2]),\n",
              " ('EnvironmentSatisfaction', [0.1858, 2]),\n",
              " ('Education', [0.1857, 5]),\n",
              " ('Department', [0.1844, 1])]"
            ]
          },
          "metadata": {},
          "execution_count": 22
        }
      ]
    },
    {
      "cell_type": "code",
      "source": [
        "variables = list(data) #all the dataset variables into a list\n",
        "variables.remove(\"Attrition\") #Attrition is removed from variables list beacause it's useless\n",
        "\n",
        "causes_no_attrition = {}\n",
        "\n",
        "for variable in variables: #for each variable in variables\n",
        "  for variable_value in sorted(data[variable].unique()): #for each variable value\n",
        "      q = likelihood_weighting(\"Attrition\", [State(variable, variable_value)], 10000)\n",
        "      #save as value of dictionary the biggest probability of attrition and its value\n",
        "      if causes_no_attrition.get(variable):\n",
        "        if q[1] > causes_no_attrition[variable][0]:\n",
        "          causes_no_attrition[variable] = [q[1], variable_value]\n",
        "      else:  \n",
        "        causes_no_attrition[variable] = [q[1], variable_value]\n",
        "\n",
        "causes_no_attrition = sorted(causes_no_attrition.items(), key=lambda x:x[1], reverse=True) #dictionary sorting\n",
        "causes_no_attrition"
      ],
      "metadata": {
        "colab": {
          "base_uri": "https://localhost:8080/"
        },
        "id": "vR1QliEsRqIm",
        "outputId": "768a5f20-646f-47f7-da62-5d3b2530e9b1"
      },
      "execution_count": null,
      "outputs": [
        {
          "output_type": "execute_result",
          "data": {
            "text/plain": [
              "[('MaritalStatus', [0.909876, 3]),\n",
              " ('JobSatisfaction', [0.847364, 4]),\n",
              " ('NumCompaniesWorked', [0.834865, 1]),\n",
              " ('WorkLifeBalance', [0.8315, 3]),\n",
              " ('YearsAtCompany', [0.825043, 4]),\n",
              " ('Age', [0.8225, 3]),\n",
              " ('MonthlyIncome', [0.82001, 1]),\n",
              " ('DistanceFromHome', [0.8197, 4]),\n",
              " ('Department', [0.8189, 3]),\n",
              " ('Education', [0.8171, 2]),\n",
              " ('EducationField', [0.8163, 5]),\n",
              " ('EnvironmentSatisfaction', [0.8151, 4])]"
            ]
          },
          "metadata": {},
          "execution_count": 23
        }
      ]
    }
  ],
  "metadata": {
    "colab": {
      "provenance": []
    },
    "kernelspec": {
      "display_name": "Python 3",
      "name": "python3"
    },
    "language_info": {
      "name": "python"
    }
  },
  "nbformat": 4,
  "nbformat_minor": 0
}